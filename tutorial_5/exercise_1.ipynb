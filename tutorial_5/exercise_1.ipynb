{
 "cells": [
  {
   "cell_type": "code",
   "execution_count": 1,
   "metadata": {},
   "outputs": [],
   "source": [
    "import numpy as np\n",
    "import pandas as pd\n",
    "\n",
    "# load vectorizer and similarity measure\n",
    "from sklearn.feature_extraction.text import TfidfVectorizer\n",
    "from sklearn.metrics.pairwise import cosine_similarity\n",
    "\n",
    "import json"
   ]
  },
  {
   "cell_type": "code",
   "execution_count": 2,
   "metadata": {},
   "outputs": [],
   "source": [
    "with open('kpi.json', 'rb') as file:\n",
    "    data = json.load(file)"
   ]
  },
  {
   "cell_type": "code",
   "execution_count": 3,
   "metadata": {},
   "outputs": [
    {
     "data": {
      "text/html": [
       "<div>\n",
       "<style scoped>\n",
       "    .dataframe tbody tr th:only-of-type {\n",
       "        vertical-align: middle;\n",
       "    }\n",
       "\n",
       "    .dataframe tbody tr th {\n",
       "        vertical-align: top;\n",
       "    }\n",
       "\n",
       "    .dataframe thead th {\n",
       "        text-align: right;\n",
       "    }\n",
       "</style>\n",
       "<table border=\"1\" class=\"dataframe\">\n",
       "  <thead>\n",
       "    <tr style=\"text-align: right;\">\n",
       "      <th></th>\n",
       "      <th>Questions</th>\n",
       "      <th>Answers</th>\n",
       "    </tr>\n",
       "  </thead>\n",
       "  <tbody>\n",
       "    <tr>\n",
       "      <th>0</th>\n",
       "      <td>tell me my forecast revenue for today</td>\n",
       "      <td>daily_forecast</td>\n",
       "    </tr>\n",
       "    <tr>\n",
       "      <th>1</th>\n",
       "      <td>my forecast sales for today</td>\n",
       "      <td>daily_forecast</td>\n",
       "    </tr>\n",
       "    <tr>\n",
       "      <th>2</th>\n",
       "      <td>what is my forecast revenue for today</td>\n",
       "      <td>daily_forecast</td>\n",
       "    </tr>\n",
       "    <tr>\n",
       "      <th>3</th>\n",
       "      <td>my forecast sales for the next 7 days</td>\n",
       "      <td>weekly_forecast</td>\n",
       "    </tr>\n",
       "    <tr>\n",
       "      <th>4</th>\n",
       "      <td>what is my forecast revenue for the next 7 days</td>\n",
       "      <td>weekly_forecast</td>\n",
       "    </tr>\n",
       "  </tbody>\n",
       "</table>\n",
       "</div>"
      ],
      "text/plain": [
       "                                         Questions          Answers\n",
       "0            tell me my forecast revenue for today   daily_forecast\n",
       "1                      my forecast sales for today   daily_forecast\n",
       "2            what is my forecast revenue for today   daily_forecast\n",
       "3            my forecast sales for the next 7 days  weekly_forecast\n",
       "4  what is my forecast revenue for the next 7 days  weekly_forecast"
      ]
     },
     "execution_count": 3,
     "metadata": {},
     "output_type": "execute_result"
    }
   ],
   "source": [
    "df = pd.DataFrame(columns=['Questions', 'Answers'])\n",
    "\n",
    "for intent in data['intents']:\n",
    "    for pattern in intent['patterns']:\n",
    "        df = df.append({'Questions': pattern, 'Answers': intent['tag']}, ignore_index=True)\n",
    "        \n",
    "df.head()"
   ]
  },
  {
   "cell_type": "code",
   "execution_count": 4,
   "metadata": {},
   "outputs": [
    {
     "data": {
      "text/plain": [
       "TfidfVectorizer(analyzer='word', binary=False, decode_error='strict',\n",
       "                dtype=<class 'numpy.float64'>, encoding='utf-8',\n",
       "                input='content', lowercase=True, max_df=1.0, max_features=None,\n",
       "                min_df=1, ngram_range=(1, 1), norm='l2', preprocessor=None,\n",
       "                smooth_idf=True, stop_words=None, strip_accents=None,\n",
       "                sublinear_tf=False, token_pattern='(?u)\\\\b\\\\w\\\\w+\\\\b',\n",
       "                tokenizer=None, use_idf=True, vocabulary=None)"
      ]
     },
     "execution_count": 4,
     "metadata": {},
     "output_type": "execute_result"
    }
   ],
   "source": [
    "vectorizer = TfidfVectorizer()\n",
    "vectorizer.fit(np.concatenate((df.Questions, df.Answers)))"
   ]
  },
  {
   "cell_type": "code",
   "execution_count": 5,
   "metadata": {},
   "outputs": [],
   "source": [
    "Question_vectors = vectorizer.transform(df.Questions)"
   ]
  },
  {
   "cell_type": "code",
   "execution_count": null,
   "metadata": {},
   "outputs": [],
   "source": []
  },
  {
   "cell_type": "code",
   "execution_count": null,
   "metadata": {},
   "outputs": [
    {
     "name": "stdout",
     "output_type": "stream",
     "text": [
      "You can start charting with me now\n"
     ]
    },
    {
     "name": "stdin",
     "output_type": "stream",
     "text": [
      "You:  Whats my income of yesterday?\n"
     ]
    },
    {
     "name": "stdout",
     "output_type": "stream",
     "text": [
      "[345] [0.55613862]\n",
      "345    yesterday_margin\n",
      "Name: Answers, dtype: object\n",
      "BOT: your profit for yesterday was \n"
     ]
    },
    {
     "name": "stdin",
     "output_type": "stream",
     "text": [
      "You:  whats the state of my business?\n"
     ]
    },
    {
     "name": "stdout",
     "output_type": "stream",
     "text": [
      "[5] [0.84511418]\n",
      "5    business_state\n",
      "Name: Answers, dtype: object\n",
      "BOT: business state\n"
     ]
    },
    {
     "name": "stdin",
     "output_type": "stream",
     "text": [
      "You:  what are my unpaid invoices like?\n"
     ]
    },
    {
     "name": "stdout",
     "output_type": "stream",
     "text": [
      "[667] [0.77653993]\n",
      "667    unpaid_invoice\n",
      "Name: Answers, dtype: object\n",
      "BOT: unpaid invoices\n"
     ]
    },
    {
     "name": "stdin",
     "output_type": "stream",
     "text": [
      "You:  what're my paid invoices like?\n"
     ]
    },
    {
     "name": "stdout",
     "output_type": "stream",
     "text": [
      "[662] [0.77653993]\n",
      "662    paid_invoice\n",
      "Name: Answers, dtype: object\n",
      "BOT: paid invoices\n"
     ]
    },
    {
     "name": "stdin",
     "output_type": "stream",
     "text": [
      "You:  what are my expensive for last week?\n"
     ]
    },
    {
     "name": "stdout",
     "output_type": "stream",
     "text": [
      "[243] [0.76930375]\n",
      "243    today_margin\n",
      "Name: Answers, dtype: object\n",
      "BOT: your profit for today is \n"
     ]
    },
    {
     "name": "stdin",
     "output_type": "stream",
     "text": [
      "You:  what are my expensives for last week?\n"
     ]
    },
    {
     "name": "stdout",
     "output_type": "stream",
     "text": [
      "[243] [0.76930375]\n",
      "243    today_margin\n",
      "Name: Answers, dtype: object\n",
      "BOT: today's profit is\n"
     ]
    },
    {
     "name": "stdin",
     "output_type": "stream",
     "text": [
      "You:  whats my expenses for yesterday?\n"
     ]
    },
    {
     "name": "stdout",
     "output_type": "stream",
     "text": [
      "[560] [0.81424448]\n",
      "560    yesterday_expenses\n",
      "Name: Answers, dtype: object\n",
      "BOT: your cost for yesterday was \n"
     ]
    }
   ],
   "source": [
    "print(\"You can start charting with me now\")\n",
    "\n",
    "while True:\n",
    "    input_question = input(\"You: \")\n",
    "\n",
    "    if input_question == 'q':\n",
    "        break\n",
    "\n",
    "    input_question_vector = vectorizer.transform([input_question])\n",
    "\n",
    "    similarities = cosine_similarity(input_question_vector, Question_vectors)\n",
    "    closest = np.argmax(similarities, axis=1)\n",
    "\n",
    "    print(closest, np.max(similarities, axis=1))\n",
    "    print(df.Answers.iloc[closest])\n",
    "    \n",
    "    for intent in data['intents']:\n",
    "        if intent['tag'] == df.Answers.iloc[closest].values[0]:\n",
    "            responses = intent['responses']\n",
    "            \n",
    "    print(\"BOT: \" + np.random.choice(responses))"
   ]
  },
  {
   "cell_type": "code",
   "execution_count": null,
   "metadata": {},
   "outputs": [],
   "source": []
  }
 ],
 "metadata": {
  "kernelspec": {
   "display_name": "Python 3",
   "language": "python",
   "name": "python3"
  },
  "language_info": {
   "codemirror_mode": {
    "name": "ipython",
    "version": 3
   },
   "file_extension": ".py",
   "mimetype": "text/x-python",
   "name": "python",
   "nbconvert_exporter": "python",
   "pygments_lexer": "ipython3",
   "version": "3.7.3"
  }
 },
 "nbformat": 4,
 "nbformat_minor": 4
}
