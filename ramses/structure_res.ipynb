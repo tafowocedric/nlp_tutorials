{
 "cells": [
  {
   "cell_type": "code",
   "execution_count": 1,
   "metadata": {},
   "outputs": [],
   "source": [
    "import re"
   ]
  },
  {
   "cell_type": "code",
   "execution_count": 27,
   "metadata": {},
   "outputs": [],
   "source": [
    "tag_patterns = ['_h1', '_span', '_p', \"_ol\"]\n",
    "list_patterns = ['_ol']"
   ]
  },
  {
   "cell_type": "code",
   "execution_count": 42,
   "metadata": {},
   "outputs": [
    {
     "name": "stdout",
     "output_type": "stream",
     "text": [
      "['_h1', '_span', '_ol']\n",
      "_f1  Ok thanks.\n",
      "  Ok thanks.\n",
      "_f2 To benefit from my intelligence, let's get connected to your business data. Below are some of the data sources I can provide business intelligence for.\n",
      " To benefit from my intelligence, let's get connected to your business data. Below are some of the data sources I can provide business intelligence for.\n",
      "_f4 So which do you prefer?\n",
      " So which do you prefer?\n",
      "3\n"
     ]
    },
    {
     "data": {
      "text/plain": [
       "[{'h1': 'Ok thanks.', 'flow': 1},\n",
       " {'span': \"To benefit from my intelligence, let's get connected to your business data. Below are some of the data sources I can provide business intelligence for.\",\n",
       "  'flow': 2},\n",
       " {'ol': [], 'flow': 3},\n",
       " {'span': 'So which do you prefer?', 'flow': 4}]"
      ]
     },
     "execution_count": 42,
     "metadata": {},
     "output_type": "execute_result"
    }
   ],
   "source": [
    "def structure_response(res, ol=[]):\n",
    "    result = []\n",
    "    found_tags = [tag for tag in tag_patterns if tag in res]\n",
    "    \n",
    "    print(found_tags)\n",
    "\n",
    "    for tag in found_tags:\n",
    "        end_tag = tag.split(\"_\")[-1] + \"_\"\n",
    "        temp = re.findall(f\"{tag} (.*?) {end_tag}\", res)\n",
    "\n",
    "        if tag in list_patterns:\n",
    "            flow_num = int(re.split(\"\\D+\", temp[0])[-1])\n",
    "            print(flow_num)\n",
    "            result.append({tag.split(\"_\")[1]: ol, \"flow\": flow_num})\n",
    "\n",
    "        else:\n",
    "            for text in temp:\n",
    "                print(text)\n",
    "                msg = text.replace(text.split(\" \")[0], \"\")\n",
    "#                 msg = re.findall(f\"{tag} (.*?) {end_tag}\", msg)\n",
    "                print(msg)\n",
    "                flow_num = int(re.split(\"\\D+\", text.split(\" \")[0])[-1])\n",
    "                result.append({tag.split(\"_\")[1]: msg.strip(), \"flow\": flow_num})\n",
    "\n",
    "    result = sorted(result, key=lambda i: i['flow'])\n",
    "    return result\n",
    "\n",
    "structure_response(\"_h1 _f1  Ok thanks. h1_\\n _span _f2 To benefit from my intelligence, \\\n",
    "let's get connected to your business data. Below are some of the data sources I can provide business intelligence for. span_ _ol _f3 ol_ \\\n",
    "_span _f4 So which do you prefer? span_\")"
   ]
  },
  {
   "cell_type": "code",
   "execution_count": 33,
   "metadata": {},
   "outputs": [
    {
     "ename": "ValueError",
     "evalue": "empty separator",
     "output_type": "error",
     "traceback": [
      "\u001b[0;31m---------------------------------------------------------------------------\u001b[0m",
      "\u001b[0;31mValueError\u001b[0m                                Traceback (most recent call last)",
      "\u001b[0;32m<ipython-input-33-520f319cda36>\u001b[0m in \u001b[0;36m<module>\u001b[0;34m\u001b[0m\n\u001b[1;32m     22\u001b[0m     \u001b[0;32mreturn\u001b[0m \u001b[0mresult\u001b[0m\u001b[0;34m\u001b[0m\u001b[0;34m\u001b[0m\u001b[0m\n\u001b[1;32m     23\u001b[0m \u001b[0mh\u001b[0m \u001b[0;34m=\u001b[0m \u001b[0;34m[\u001b[0m\u001b[0;34m\"_h1 _f1 Hi _name. Welcome to Univers.\\n I'm Ramses, I'm here to get you started. h1_ _span _f2 Shall we proceed? span_\"\u001b[0m\u001b[0;34m]\u001b[0m\u001b[0;34m\u001b[0m\u001b[0;34m\u001b[0m\u001b[0m\n\u001b[0;32m---> 24\u001b[0;31m \u001b[0mstructure_response\u001b[0m\u001b[0;34m(\u001b[0m\u001b[0mh\u001b[0m\u001b[0;34m[\u001b[0m\u001b[0;36m0\u001b[0m\u001b[0;34m]\u001b[0m\u001b[0;34m,\u001b[0m \u001b[0;34m[\u001b[0m\u001b[0;36m1\u001b[0m\u001b[0;34m,\u001b[0m\u001b[0;36m2\u001b[0m\u001b[0;34m]\u001b[0m\u001b[0;34m)\u001b[0m\u001b[0;34m\u001b[0m\u001b[0;34m\u001b[0m\u001b[0m\n\u001b[0m",
      "\u001b[0;32m<ipython-input-33-520f319cda36>\u001b[0m in \u001b[0;36mstructure_response\u001b[0;34m(res, ol)\u001b[0m\n\u001b[1;32m      7\u001b[0m \u001b[0;34m\u001b[0m\u001b[0m\n\u001b[1;32m      8\u001b[0m     \u001b[0;32mfor\u001b[0m \u001b[0mtag\u001b[0m \u001b[0;32min\u001b[0m \u001b[0mfound_tags\u001b[0m\u001b[0;34m:\u001b[0m\u001b[0;34m\u001b[0m\u001b[0;34m\u001b[0m\u001b[0m\n\u001b[0;32m----> 9\u001b[0;31m         \u001b[0mend_tag\u001b[0m \u001b[0;34m=\u001b[0m \u001b[0mtag\u001b[0m\u001b[0;34m.\u001b[0m\u001b[0msplit\u001b[0m\u001b[0;34m(\u001b[0m\u001b[0;34m''\u001b[0m\u001b[0;34m)\u001b[0m\u001b[0;34m[\u001b[0m\u001b[0;34m-\u001b[0m\u001b[0;36m1\u001b[0m\u001b[0;34m]\u001b[0m \u001b[0;34m+\u001b[0m \u001b[0;34m''\u001b[0m\u001b[0;34m\u001b[0m\u001b[0;34m\u001b[0m\u001b[0m\n\u001b[0m\u001b[1;32m     10\u001b[0m         \u001b[0mtemp\u001b[0m \u001b[0;34m=\u001b[0m \u001b[0mre\u001b[0m\u001b[0;34m.\u001b[0m\u001b[0mfindall\u001b[0m\u001b[0;34m(\u001b[0m\u001b[0;34mf'{tag} (.*?) {end_tag}'\u001b[0m\u001b[0;34m,\u001b[0m \u001b[0mres\u001b[0m\u001b[0;34m)\u001b[0m\u001b[0;34m\u001b[0m\u001b[0;34m\u001b[0m\u001b[0m\n\u001b[1;32m     11\u001b[0m         \u001b[0;32mif\u001b[0m \u001b[0mtag\u001b[0m \u001b[0;32min\u001b[0m \u001b[0mlist_patterns\u001b[0m\u001b[0;34m:\u001b[0m\u001b[0;34m\u001b[0m\u001b[0;34m\u001b[0m\u001b[0m\n",
      "\u001b[0;31mValueError\u001b[0m: empty separator"
     ]
    }
   ],
   "source": [
    "tag_patterns = ['_h1', '_span', '_p', \"_ol\"]\n",
    "list_patterns = ['_ol']\n",
    "\n",
    "def structure_response(res, ol=[]):\n",
    "    result = []\n",
    "    found_tags = [tag for tag in tag_patterns if tag in res]\n",
    "\n",
    "    for tag in found_tags:\n",
    "        end_tag = tag.split('')[-1] + ''\n",
    "        temp = re.findall(f'{tag} (.*?) {end_tag}', res)\n",
    "        if tag in list_patterns:\n",
    "            flow_num = int(re.split('\\D+', temp[0])[-1])\n",
    "            result.append({tag.split('_')[1]: ol, 'flow': flow_num})\n",
    "        else:\n",
    "            for text in temp:\n",
    "                msg = text.replace(text.split(' ')[0], '')\n",
    "                flow_num = int(re.split('\\D+', text.split(' ')[0])[-1])\n",
    "                result.append(\n",
    "                    {tag.split('_')[1]: msg.strip(), 'flow': flow_num})\n",
    "\n",
    "    result = sorted(result, key=lambda i: i['flow'])\n",
    "    return result\n",
    "h = [\"_h1 _f1 Hi _name. Welcome to Univers.\\n I'm Ramses, I'm here to get you started. h1_ _span _f2 Shall we proceed? span_\"]\n",
    "structure_response(h[0], [1,2])"
   ]
  },
  {
   "cell_type": "code",
   "execution_count": 47,
   "metadata": {},
   "outputs": [
    {
     "data": {
      "text/plain": [
       "[{'p': 'Today seems to be a good day,', 'flow': 2},\n",
       " {'ol': ['$135.214 on payroll',\n",
       "   '$135.214 on purchases',\n",
       "   '$135.214 on other expenses'],\n",
       "  'flow': 3},\n",
       " {'span': 'compared to yesterday', 'flow': 4}]"
      ]
     },
     "execution_count": 47,
     "metadata": {},
     "output_type": "execute_result"
    }
   ],
   "source": [
    "import re\n",
    "res =\"_h1 _f1  Ok thanks. h1_\\n _span _f2 To benefit from my intelligence, \\\n",
    "let's get connected to your business data. Below are some of the data sources I can provide business intelligence for. span_ _ol _f3 ol_ \\\n",
    "_span _f4 So which do you prefer? span_\"\n",
    "\n",
    "h= \"_p _f2 Looking at expenses so far, \\\n",
    "you spended p_ _ol _f2 ol_\"\n",
    "\n",
    "b = '_p _f2 Today seems to be a good day, p_ _ol _f3 ol_ _span _f4 compared to yesterday span_'\n",
    "\n",
    "ol = [\"$135.214 on payroll\", \"$135.214 on purchases\", \"$135.214 on other expenses\"]\n",
    "\n",
    "tag_patterns = ['_h1', '_span', '_p', '_ol']\n",
    "list_patterns = ['_ol']\n",
    "\n",
    "def structure_response(res, ol=[]):\n",
    "#     name = 'Raymond'\n",
    "    result = []\n",
    "#     res = res.replace('_name', name).replace('\\n', '<br />')\n",
    "    found_tags = [tag for tag in tag_patterns if tag in res]\n",
    "    \n",
    "    for index, tag in enumerate(found_tags):\n",
    "        end_tag = tag.split('_')[-1] + '_'\n",
    "        temp = re.findall( f'{tag} (.*?) {end_tag}', res)\n",
    "        if tag in list_patterns:\n",
    "            flow_num = int(re.split('\\D+', temp[0])[-1])\n",
    "            result.append({tag.split('_')[1]: ol, 'flow': flow_num})\n",
    "        else:\n",
    "            for index, p in enumerate(temp):\n",
    "                msg = p.replace(p.split(' ')[0], '')\n",
    "                flow_num = int(re.split('\\D+', p.split(' ')[0])[-1])\n",
    "                result.append({tag.split('_')[1]: msg.strip(), 'flow': flow_num})\n",
    "\n",
    "    result = sorted(result, key = lambda i: i['flow']) \n",
    "    return result\n",
    "\n",
    "structure_response(b, ol)"
   ]
  },
  {
   "cell_type": "code",
   "execution_count": 43,
   "metadata": {},
   "outputs": [],
   "source": [
    "test = [\"me\", \"uoi\", [\"elr\"]]"
   ]
  },
  {
   "cell_type": "code",
   "execution_count": 45,
   "metadata": {},
   "outputs": [
    {
     "data": {
      "text/plain": [
       "['me', 'uoi']"
      ]
     },
     "execution_count": 45,
     "metadata": {},
     "output_type": "execute_result"
    }
   ],
   "source": [
    "test[:-1]"
   ]
  },
  {
   "cell_type": "code",
   "execution_count": null,
   "metadata": {},
   "outputs": [],
   "source": []
  },
  {
   "cell_type": "code",
   "execution_count": 4,
   "metadata": {},
   "outputs": [
    {
     "data": {
      "text/plain": [
       "[{'h1': 'Here is your total expenditure for today $135.214', 'flow': 1},\n",
       " [{'p': 'Looking at expenses so far, you spended', 'flow': 2},\n",
       "  {'ol': ['$135.214 on payroll',\n",
       "    '$135.214 on purchases',\n",
       "    '$135.214 on other expenses'],\n",
       "   'flow': 2}]]"
      ]
     },
     "execution_count": 4,
     "metadata": {},
     "output_type": "execute_result"
    }
   ],
   "source": [
    "res = [{'h1': 'Here is your total expenditure for today $135.214', 'flow': 1}, [{'p': 'Looking at expenses so far, you spended', 'flow': 2}, {'ol': ['$135.214 on payroll', '$135.214 on purchases', '$135.214 on other expenses'], 'flow': 2}]]\n",
    "res"
   ]
  },
  {
   "cell_type": "code",
   "execution_count": 15,
   "metadata": {},
   "outputs": [
    {
     "data": {
      "text/plain": [
       "['5.0 on other expenses']"
      ]
     },
     "execution_count": 15,
     "metadata": {},
     "output_type": "execute_result"
    }
   ],
   "source": [
    "res = {'data': {'purchase': 0.0, 'payroll': 0.0, 'other_expenses': 5.0}}\n",
    "ol_list = list()\n",
    "for i in res['data']:\n",
    "    if res['data'][i] > 0:\n",
    "        ol_list.append(f\"{res['data'][i]} on {i}\".replace(\"_\", \" \"))\n",
    "        \n",
    "ol_list"
   ]
  },
  {
   "cell_type": "code",
   "execution_count": null,
   "metadata": {},
   "outputs": [],
   "source": []
  }
 ],
 "metadata": {
  "kernelspec": {
   "display_name": "Python 3",
   "language": "python",
   "name": "python3"
  },
  "language_info": {
   "codemirror_mode": {
    "name": "ipython",
    "version": 3
   },
   "file_extension": ".py",
   "mimetype": "text/x-python",
   "name": "python",
   "nbconvert_exporter": "python",
   "pygments_lexer": "ipython3",
   "version": "3.7.3"
  }
 },
 "nbformat": 4,
 "nbformat_minor": 4
}
