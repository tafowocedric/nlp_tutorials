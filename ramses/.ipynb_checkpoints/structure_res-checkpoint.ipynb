{
 "cells": [
  {
   "cell_type": "code",
   "execution_count": 1,
   "metadata": {},
   "outputs": [],
   "source": [
    "import re"
   ]
  },
  {
   "cell_type": "code",
   "execution_count": 2,
   "metadata": {},
   "outputs": [],
   "source": [
    "tag_patterns = ['_h1', '_span', '_p', \"_ol\"]\n",
    "list_patterns = ['_ol']"
   ]
  },
  {
   "cell_type": "code",
   "execution_count": 18,
   "metadata": {},
   "outputs": [
    {
     "name": "stdout",
     "output_type": "stream",
     "text": [
      "[]\n"
     ]
    },
    {
     "data": {
      "text/plain": [
       "[]"
      ]
     },
     "execution_count": 18,
     "metadata": {},
     "output_type": "execute_result"
    }
   ],
   "source": [
    "def structure_response(res, ol=[]):\n",
    "    result = []\n",
    "    found_tags = [tag for tag in tag_patterns if tag in res]\n",
    "    \n",
    "    print(found_tags)\n",
    "\n",
    "    for tag in found_tags:\n",
    "        end_tag = tag.split(\"_\")[-1] + \"_\"\n",
    "        temp = re.findall(f\"{tag} (.*?) {end_tag}\", res)\n",
    "\n",
    "        if tag in list_patterns:\n",
    "            flow_num = int(re.split(\"\\D+\", temp[0])[-1])\n",
    "            print(flow_num)\n",
    "            result.append({tag.split(\"_\")[1]: ol, \"flow\": flow_num})\n",
    "\n",
    "        else:\n",
    "            for text in temp:\n",
    "                print(text)\n",
    "                msg = text.replace(text.split(\" \")[0], \"\")\n",
    "#                 msg = re.findall(f\"{tag} (.*?) {end_tag}\", msg)\n",
    "                print(msg)\n",
    "                flow_num = int(re.split(\"\\D+\", text.split(\" \")[0])[-1])\n",
    "                result.append({tag.split(\"_\")[1]: msg.strip(), \"flow\": flow_num})\n",
    "\n",
    "    result = sorted(result, key=lambda i: i['flow'])\n",
    "    return result\n",
    "\n",
    "h = \"h1 _f1 Ok thanks. h1\\n span _f2 To benefit from my intelligence, let's get connected to your business data. \\n \\n Below are some of the data sources I can provide business intelligence for. span ol _f3 ol p _f4 So which do you prefer? p_\"\n",
    "structure_response(h,[125])\n",
    "# structure_response(\"_p _f2 Looking at expenses so far, you spended _ol _f2 $135.214 on payroll ol_ _ol _f3 $135.214 on purchases ol_ _ol _f4 $135.214 on other expenses ol_ p_'\")"
   ]
  },
  {
   "cell_type": "code",
   "execution_count": 23,
   "metadata": {},
   "outputs": [],
   "source": [
    "def structure_response(res, ol=[]):\n",
    "    result = []\n",
    "    found_tags = [tag for tag in tag_patterns if tag in res]\n",
    "\n",
    "    for tag in found_tags:\n",
    "        end_tag = tag.split('')[-1] + ''\n",
    "        temp = re.findall(f'{tag} (.*?) {end_tag}', res)\n",
    "        if tag in list_patterns:\n",
    "            flow_num = int(re.split('\\D+', temp[0])[-1])\n",
    "            result.append({tag.split('_')[1]: ol, 'flow': flow_num})\n",
    "        else:\n",
    "            for text in temp:\n",
    "                msg = text.replace(text.split(' ')[0], '')\n",
    "                flow_num = int(re.split('\\D+', text.split(' ')[0])[-1])\n",
    "                result.append(\n",
    "                    {tag.split('_')[1]: msg.strip(), 'flow': flow_num})\n",
    "    \n",
    "    print(result)\n",
    "    result = sorted(result, key=lambda i: i['flow'])\n",
    "    return result"
   ]
  },
  {
   "cell_type": "code",
   "execution_count": 24,
   "metadata": {},
   "outputs": [
    {
     "data": {
      "text/plain": [
       "[]"
      ]
     },
     "execution_count": 24,
     "metadata": {},
     "output_type": "execute_result"
    }
   ],
   "source": [
    "structure_response(h, [1,2])"
   ]
  },
  {
   "cell_type": "code",
   "execution_count": null,
   "metadata": {},
   "outputs": [],
   "source": []
  }
 ],
 "metadata": {
  "kernelspec": {
   "display_name": "Python 3",
   "language": "python",
   "name": "python3"
  },
  "language_info": {
   "codemirror_mode": {
    "name": "ipython",
    "version": 3
   },
   "file_extension": ".py",
   "mimetype": "text/x-python",
   "name": "python",
   "nbconvert_exporter": "python",
   "pygments_lexer": "ipython3",
   "version": "3.7.3"
  }
 },
 "nbformat": 4,
 "nbformat_minor": 4
}
