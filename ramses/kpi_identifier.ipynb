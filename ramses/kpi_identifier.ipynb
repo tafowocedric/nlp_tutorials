{
 "cells": [
  {
   "cell_type": "code",
   "execution_count": 1,
   "metadata": {},
   "outputs": [],
   "source": [
    "import pickle\n",
    "import tensorflow as tf\n",
    "\n",
    "import pandas as pd\n",
    "import numpy as np\n",
    "import string\n",
    "import json\n",
    "import re\n",
    "\n",
    "import nltk\n",
    "from nltk.stem.lancaster import LancasterStemmer\n",
    "\n",
    "stemmer = LancasterStemmer()\n",
    "\n",
    "from IPython.display import display"
   ]
  },
  {
   "cell_type": "code",
   "execution_count": 6,
   "metadata": {},
   "outputs": [],
   "source": [
    "class KpiIdentifier:\n",
    "    def __init__(self, data_path, model_path, json_data_path):\n",
    "        try:\n",
    "            with open(data_path, 'rb') as file:\n",
    "                self.words, self.classes, self.documents = pickle.load(file)\n",
    "        except Exception as e:\n",
    "            print(e)\n",
    "            raise FileNotFoundError(f\"{data_path} doesn't exist\")\n",
    "            \n",
    "        try:\n",
    "            self.model = tf.keras.models.load_model(model_path)\n",
    "        except Exception as e:\n",
    "            print(e)\n",
    "            raise FileNotFoundError(f\"{model_path} doesn't exist\")\n",
    "            \n",
    "        try:\n",
    "            with open(json_data_path, \"rb\") as file:\n",
    "                self.data = json.load(file)\n",
    "        except Exception as e:\n",
    "            print(e)\n",
    "            raise FileNotFoundError(f\"{json_data_path} doesn't exist\")\n",
    "           \n",
    "    @property\n",
    "    def ignore_words(self):\n",
    "        return [\"'s\"] + [s for s in string.punctuation]\n",
    "    \n",
    "    def clean_up_sentence(self, sentence):\n",
    "        s_words = nltk.word_tokenize(sentence)\n",
    "        s_words = [stemmer.stem(w.lower()) for w in s_words if w not in self.ignore_words]\n",
    "\n",
    "        return s_words\n",
    "\n",
    "    def bow(self, sentence, words, show_details=True):\n",
    "        s_words = self.clean_up_sentence(sentence)\n",
    "\n",
    "        bag = [0 for _ in range(len(words))]\n",
    "\n",
    "        for s in s_words:\n",
    "            for i, w in enumerate(words):\n",
    "                if w == s:\n",
    "                    bag[i] = 1\n",
    "\n",
    "                    if show_details:\n",
    "                        print(f\"found in bag: {s}\")\n",
    "\n",
    "        return np.array(bag)\n",
    "\n",
    "    def classify_local(self, sentence):\n",
    "        ERROR_THRESHOLD = 0.60\n",
    "\n",
    "        input_data = pd.DataFrame([self.bow(sentence, self.words, show_details=False)], dtype=float, index=['input'])\n",
    "        input_data = tf.cast(input_data.values.reshape(-1, 1, input_data.shape[1]), tf.float32)\n",
    "        print(input_data.shape)\n",
    "        results = self.model.predict(input_data)[0]\n",
    "\n",
    "        #filter out prediction below a threshold, and provide intent index\n",
    "        results = [[i, r] for i, r in enumerate(results) if r > ERROR_THRESHOLD]\n",
    "\n",
    "        # sort by strength of probability\n",
    "        results.sort(key=lambda x: x[1], reverse=False)\n",
    "\n",
    "        return_list = []\n",
    "        for r in results:\n",
    "            return_list.append((self.classes[r[0]], str(r[1])))\n",
    "                \n",
    "#         print(return_list)\n",
    "        return return_list\n",
    "\n",
    "    def run(self, text):\n",
    "        try:\n",
    "            results = self.classify_local(text)[0]\n",
    "            \n",
    "            for intent in self.data[\"intents\"]:\n",
    "                if intent[\"tag\"] == results[0]: \n",
    "                    for query in text.split():\n",
    "                        for val in intent[\"validate\"]:\n",
    "                            if stemmer.stem(nltk.word_tokenize(query)[0]) == stemmer.stem(val): return results[0], text\n",
    "                            \n",
    "                    return None\n",
    "                \n",
    "        except IndexError:\n",
    "            return None\n",
    "                    \n",
    "        except Exception as e:\n",
    "            raise(e)\n",
    "            return None\n",
    "\n",
    "    \n",
    "# identifier = KpiIdentifier(data_path=\"data.pickle\", model_path=\"kpi_identifier.hdf5\", json_data_path=\"kpi_identifier.json\")\n",
    "# identifier.run(text=\"\")"
   ]
  },
  {
   "cell_type": "code",
   "execution_count": 7,
   "metadata": {},
   "outputs": [
    {
     "name": "stdin",
     "output_type": "stream",
     "text": [
      "Enter Text:  hi\n"
     ]
    },
    {
     "name": "stdout",
     "output_type": "stream",
     "text": [
      "(1, 1, 163)\n",
      "[('greetings', '0.9994537')]\n"
     ]
    },
    {
     "data": {
      "text/plain": [
       "('greetings', 'hi')"
      ]
     },
     "metadata": {},
     "output_type": "display_data"
    },
    {
     "name": "stdin",
     "output_type": "stream",
     "text": [
      "\n",
      "Enter Text:  q\n"
     ]
    }
   ],
   "source": [
    "identifier = KpiIdentifier(data_path=\"data.pickle\", model_path=\"kpi_identifier.hdf5\", json_data_path=\"kpi_identifier.json\")\n",
    "text = input(\"Enter Text: \")\n",
    "\n",
    "# while True:\n",
    "#     if text in [\"quit\", \"exit\", \"stop\", \"q\", \"s\", \"e\"]:\n",
    "#         break\n",
    "    \n",
    "display(identifier.run(text=text))\n",
    "# text = input(\"\\nEnter Text: \")"
   ]
  },
  {
   "cell_type": "code",
   "execution_count": 8,
   "metadata": {},
   "outputs": [
    {
     "data": {
      "text/plain": [
       "'2.2.0'"
      ]
     },
     "execution_count": 8,
     "metadata": {},
     "output_type": "execute_result"
    }
   ],
   "source": [
    "tf.__version__"
   ]
  },
  {
   "cell_type": "code",
   "execution_count": null,
   "metadata": {},
   "outputs": [],
   "source": []
  }
 ],
 "metadata": {
  "kernelspec": {
   "display_name": "Python 3",
   "language": "python",
   "name": "python3"
  },
  "language_info": {
   "codemirror_mode": {
    "name": "ipython",
    "version": 3
   },
   "file_extension": ".py",
   "mimetype": "text/x-python",
   "name": "python",
   "nbconvert_exporter": "python",
   "pygments_lexer": "ipython3",
   "version": "3.8.3"
  }
 },
 "nbformat": 4,
 "nbformat_minor": 4
}
