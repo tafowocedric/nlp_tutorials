{
 "cells": [
  {
   "cell_type": "code",
   "execution_count": 1,
   "metadata": {},
   "outputs": [
    {
     "name": "stderr",
     "output_type": "stream",
     "text": [
      "Using TensorFlow backend.\n"
     ]
    }
   ],
   "source": [
    "import warnings\n",
    "warnings.filterwarnings('ignore')\n",
    "\n",
    "import string\n",
    "\n",
    "import nltk\n",
    "from nltk.stem.lancaster import LancasterStemmer\n",
    "import numpy as np\n",
    "import tensorflow as tf\n",
    "from tensorflow.python.framework import ops\n",
    "import random\n",
    "import json\n",
    "import sklearn\n",
    "import re\n",
    "import pickle\n",
    "\n",
    "import tensorflow as tf\n",
    "from keras.models import Sequential\n",
    "from keras.layers import Dense, Activation, Dropout\n",
    "from keras.optimizers import SGD"
   ]
  },
  {
   "cell_type": "code",
   "execution_count": 2,
   "metadata": {},
   "outputs": [],
   "source": [
    "stemmer = LancasterStemmer()"
   ]
  },
  {
   "cell_type": "code",
   "execution_count": 3,
   "metadata": {},
   "outputs": [],
   "source": [
    "with open('intents.json') as file:\n",
    "    data = json.load(file)\n",
    "    "
   ]
  },
  {
   "cell_type": "code",
   "execution_count": 4,
   "metadata": {},
   "outputs": [],
   "source": [
    "try:\n",
    "    with open('data.pickle', 'rb') as file:\n",
    "        words, labels, training, output = pickle.load(file)\n",
    "except:\n",
    "    words, labels, docs_x, docs_y = [], [], [], []\n",
    "\n",
    "    for intent in data['intents']:\n",
    "        for pattern in intent['patterns']:\n",
    "    #         wrds = re.split('\\W+', pattern)\n",
    "            wrds = nltk.word_tokenize(pattern)\n",
    "            words.extend(wrds)\n",
    "            docs_x.append(wrds)\n",
    "            docs_y.append(intent['tag'])\n",
    "\n",
    "        if intent['tag'] not in labels:\n",
    "            labels.append(intent['tag'])\n",
    "\n",
    "    words = [stemmer.stem(w.lower()) for w in words if w not in string.punctuation]\n",
    "    words = sorted(list(set(words)))\n",
    "\n",
    "    labels = sorted(labels)\n",
    "\n",
    "    training = []\n",
    "    output = []\n",
    "\n",
    "    out_empty = [0 for _ in range(len(labels))]\n",
    "\n",
    "    for x, doc in enumerate(docs_x):\n",
    "        bag = []\n",
    "        wrds = [stemmer.stem(w) for w in doc]\n",
    "    #     wrds = stemmer.stem(doc)\n",
    "        for w in words:\n",
    "            if w in wrds:\n",
    "                bag.append(1)\n",
    "            else:\n",
    "                bag.append(0)\n",
    "\n",
    "        output_row = out_empty[:]\n",
    "        output_row[labels.index(docs_y[x])] = 1\n",
    "\n",
    "        training.append(bag)\n",
    "        output.append(output_row)\n",
    "\n",
    "    training = np.array(training)\n",
    "    output = np.array(output)\n",
    "\n",
    "    print(f\"{training.shape} {output.shape}\")\n",
    "    \n",
    "    with open('data.pickle', 'wb') as file:\n",
    "        pickle.dump((words, labels, training, output), file)\n"
   ]
  },
  {
   "cell_type": "code",
   "execution_count": 5,
   "metadata": {},
   "outputs": [],
   "source": [
    "ops.reset_default_graph()"
   ]
  },
  {
   "cell_type": "code",
   "execution_count": null,
   "metadata": {},
   "outputs": [],
   "source": []
  },
  {
   "cell_type": "code",
   "execution_count": 6,
   "metadata": {
    "scrolled": true
   },
   "outputs": [
    {
     "name": "stdout",
     "output_type": "stream",
     "text": [
      "(28, 49) (28, 7)\n"
     ]
    }
   ],
   "source": [
    "try:\n",
    "    print(f\"{training.shape} {output.shape}\")\n",
    "    with open('chatbox.hd5', 'rb') as file:\n",
    "        model = pickle.load(file)\n",
    "except:    \n",
    "    model = Sequential()\n",
    "    model.add(Dense(128, input_shape=(training.shape[1], ), activation='relu'))\n",
    "    model.add(Dropout(0.5))\n",
    "    model.add(Dense(64, activation='relu'))\n",
    "    model.add(Dropout(0.5))\n",
    "    model.add(Dense(output.shape[1], activation='softmax'))\n",
    "\n",
    "    sgd = SGD(lr=0.01, decay=1e-6, momentum=0.9, nesterov=True)\n",
    "    model.compile(loss='categorical_crossentropy', optimizer=sgd, metrics=['accuracy'])\n",
    "\n",
    "    model.fit(training, output, epochs=300, batch_size=8, verbose=1)\n",
    "    \n",
    "    with open('chatbox.hd5', 'wb') as file:\n",
    "        pickle.dump(model, file)\n"
   ]
  },
  {
   "cell_type": "code",
   "execution_count": null,
   "metadata": {},
   "outputs": [],
   "source": []
  },
  {
   "cell_type": "code",
   "execution_count": null,
   "metadata": {},
   "outputs": [
    {
     "name": "stdout",
     "output_type": "stream",
     "text": [
      "Start talking with the bot! (type quit to stop)\n"
     ]
    },
    {
     "name": "stdin",
     "output_type": "stream",
     "text": [
      "You:  Hello\n"
     ]
    },
    {
     "name": "stdout",
     "output_type": "stream",
     "text": [
      "[3.6267018e-05 1.7872178e-05 3.5033969e-05 9.9988282e-01 1.5030614e-06\n",
      " 4.0716677e-06 2.2412123e-05]\n",
      "Good to see you again!\n"
     ]
    },
    {
     "name": "stdin",
     "output_type": "stream",
     "text": [
      "You:  what are you selling?\n"
     ]
    },
    {
     "name": "stdout",
     "output_type": "stream",
     "text": [
      "[0.00221835 0.00346442 0.01195268 0.67704827 0.05566101 0.01125071\n",
      " 0.2384045 ]\n",
      "I didn't get that try again\n"
     ]
    },
    {
     "name": "stdin",
     "output_type": "stream",
     "text": [
      "You:  what is your age?\n"
     ]
    },
    {
     "name": "stdout",
     "output_type": "stream",
     "text": [
      "[9.9999762e-01 3.7639722e-08 3.7032821e-10 9.1232160e-08 2.2993119e-07\n",
      " 1.9738054e-06 4.2240006e-10]\n",
      "18 years young!\n"
     ]
    },
    {
     "name": "stdin",
     "output_type": "stream",
     "text": [
      "You:  I would like to buy something\n"
     ]
    },
    {
     "name": "stdout",
     "output_type": "stream",
     "text": [
      "[2.81899320e-05 2.27064006e-02 5.74475453e-05 5.99813711e-06\n",
      " 1.24433245e-05 4.91726896e-05 9.77140307e-01]\n",
      "We sell chocolate chip cookies for $2!\n"
     ]
    },
    {
     "name": "stdin",
     "output_type": "stream",
     "text": [
      "You:  How much is a cookie?\n"
     ]
    },
    {
     "name": "stdout",
     "output_type": "stream",
     "text": [
      "[1.5003520e-05 9.9994433e-01 1.6620024e-05 8.4474465e-07 2.8578282e-07\n",
      " 1.3848235e-07 2.2797183e-05]\n",
      "Yes cookies are $2.\n"
     ]
    },
    {
     "name": "stdin",
     "output_type": "stream",
     "text": [
      "You:  what's your age?\n"
     ]
    },
    {
     "name": "stdout",
     "output_type": "stream",
     "text": [
      "[9.9997735e-01 2.0817126e-07 1.1540353e-08 1.0650845e-06 4.1198914e-06\n",
      " 1.7175860e-05 1.1401032e-08]\n",
      "18 years young!\n"
     ]
    },
    {
     "name": "stdin",
     "output_type": "stream",
     "text": [
      "You:  you school?\n"
     ]
    },
    {
     "name": "stdout",
     "output_type": "stream",
     "text": [
      "[0.00362492 0.01106197 0.4401149  0.43648502 0.00653813 0.02901423\n",
      " 0.07316089]\n",
      "I didn't get that try again\n"
     ]
    },
    {
     "name": "stdin",
     "output_type": "stream",
     "text": [
      "You:  what time do you guys open?\n"
     ]
    },
    {
     "name": "stdout",
     "output_type": "stream",
     "text": [
      "[1.1478097e-03 1.3719792e-03 4.1946028e-03 3.5477104e-04 3.8944438e-01\n",
      " 1.3332548e-02 5.9015393e-01]\n",
      "I didn't get that try again\n"
     ]
    },
    {
     "name": "stdin",
     "output_type": "stream",
     "text": [
      "You:  when are you guys open\n"
     ]
    },
    {
     "name": "stdout",
     "output_type": "stream",
     "text": [
      "[7.2587795e-07 7.4411497e-07 2.7681826e-05 2.6622736e-06 9.9996507e-01\n",
      " 8.6750782e-07 2.1992419e-06]\n",
      "We are open 7am - 4pm Mon - Fri!\n"
     ]
    },
    {
     "name": "stdin",
     "output_type": "stream",
     "text": [
      "You:  goodbye\n"
     ]
    },
    {
     "name": "stdout",
     "output_type": "stream",
     "text": [
      "[3.2328430e-07 2.6164134e-05 9.9992645e-01 3.2210752e-05 3.8379890e-06\n",
      " 5.7930019e-06 5.2992837e-06]\n",
      "Goodbye\n"
     ]
    },
    {
     "name": "stdin",
     "output_type": "stream",
     "text": [
      "You:  see you later\n"
     ]
    },
    {
     "name": "stdout",
     "output_type": "stream",
     "text": [
      "[4.0889198e-08 6.6599559e-06 9.9998069e-01 5.4803741e-06 1.8152106e-06\n",
      " 2.7801646e-06 2.4982128e-06]\n",
      "Talk to you later\n"
     ]
    },
    {
     "name": "stdin",
     "output_type": "stream",
     "text": [
      "You:  hey\n"
     ]
    },
    {
     "name": "stdout",
     "output_type": "stream",
     "text": [
      "[0.00556217 0.00614638 0.11198365 0.8644256  0.00193274 0.00341607\n",
      " 0.0065333 ]\n",
      "Hi there, how can I help?\n"
     ]
    }
   ],
   "source": [
    "def bag_of_words(s, words):\n",
    "    bag = [0 for _ in range(len(words))]\n",
    "        \n",
    "    s_words = nltk.word_tokenize(s)\n",
    "    s_words = [stemmer.stem(word.lower()) for word in s_words if word not in string.punctuation]\n",
    "    \n",
    "    for s_word in s_words:\n",
    "        for i, w in enumerate(words):\n",
    "            if w == s_word:\n",
    "                bag[i] = 1\n",
    "                \n",
    "    return np.array(bag).reshape(1, len(bag))\n",
    "\n",
    "def chat():\n",
    "    print(\"Start talking with the bot! (type quit to stop)\")\n",
    "    while True:\n",
    "        inp = input(\"You: \")\n",
    "        if inp.lower() == 'quit':\n",
    "            break\n",
    "        \n",
    "        user_word = bag_of_words(inp, words)\n",
    "        \n",
    "        results = model.predict([user_word])[0]\n",
    "        results_index = np.argmax(results)\n",
    "        \n",
    "        print(results)\n",
    "        \n",
    "        if results[results_index] > 0.7:\n",
    "            tag = labels[results_index]\n",
    "            for intent in data['intents']:\n",
    "                if intent['tag'] == tag:\n",
    "                    responses = intent['responses']\n",
    "\n",
    "            print(random.choice(responses))\n",
    "            \n",
    "        else:\n",
    "            print(\"I didn't get that try again\")\n",
    "\n",
    "chat()"
   ]
  },
  {
   "cell_type": "code",
   "execution_count": null,
   "metadata": {},
   "outputs": [],
   "source": []
  }
 ],
 "metadata": {
  "kernelspec": {
   "display_name": "Python 3",
   "language": "python",
   "name": "python3"
  },
  "language_info": {
   "codemirror_mode": {
    "name": "ipython",
    "version": 3
   },
   "file_extension": ".py",
   "mimetype": "text/x-python",
   "name": "python",
   "nbconvert_exporter": "python",
   "pygments_lexer": "ipython3",
   "version": "3.7.3"
  }
 },
 "nbformat": 4,
 "nbformat_minor": 4
}
